{
 "cells": [
  {
   "cell_type": "code",
   "execution_count": 113,
   "metadata": {},
   "outputs": [],
   "source": [
    "import numpy as np"
   ]
  },
  {
   "cell_type": "code",
   "execution_count": 114,
   "metadata": {},
   "outputs": [],
   "source": [
    "def mask(probs, deck):\n",
    "\n",
    "\n",
    "    res2 = np.ma.make_mask(probs)\n",
    "\n",
    "    res3 = np.ma.masked_array(deck, np.invert(res2), fill_value=0)\n",
    "\n",
    "    print(np.sum(res3[1]))\n",
    "    return res3.filled()\n"
   ]
  },
  {
   "cell_type": "code",
   "execution_count": 115,
   "metadata": {},
   "outputs": [],
   "source": [
    "def calcHint(probs, hint, mypos, deck):\n",
    "            #calcolo probabilità ricezione indizi (hint)\n",
    "            #hint.type             value o color (type)\n",
    "            #hint.destination      player to\n",
    "            #hint.value            number or string (effective value)\n",
    "            #hint.positions        array delle posizioni\n",
    "\n",
    "            if hint['type'] == \"value\":                            \n",
    "                if mypos in hint['positions']:\n",
    "                    for i in range(5):\n",
    "                        if(i != hint['value']-1):\n",
    "                            probs[i].fill(0)\n",
    "                    tot = 0\n",
    "                    #print(deck)\n",
    "                    m = mask(probs, deck)\n",
    "\n",
    "                    tot = np.sum(m[hint['value']-1])\n",
    "\n",
    "                    probs[hint['value']-1,:] = m[hint['value']-1,:].filled()/tot         # We calculate the probability      deck>0  prob==0\n",
    "\n",
    "                    print(\"Probs\")\n",
    "                    print(probs)\n",
    "\n",
    "                else:\n",
    "                    probs[hint['value']-1].fill(0)\n",
    "                    tot = 0\n",
    "                    for i in range(5):\n",
    "                        if i != hint['value']-1:\n",
    "                            for j in range(5):\n",
    "                                if(probs[i,j]!=0):\n",
    "                                    tot+= deck[i,j]\n",
    "                    for i in range(5):\n",
    "                        if i != hint['value']-1:\n",
    "                            for j in range(5):\n",
    "                                if(probs[i,j]!=0):\n",
    "                                    probs[i,j] = deck[i,j]/tot\n",
    "\n"
   ]
  },
  {
   "cell_type": "code",
   "execution_count": 116,
   "metadata": {},
   "outputs": [
    {
     "name": "stdout",
     "output_type": "stream",
     "text": [
      "8\n",
      "Probs\n",
      "[[0.   0.   0.   0.   0.  ]\n",
      " [0.25 0.25 0.   0.25 0.25]\n",
      " [0.   0.   0.   0.   0.  ]\n",
      " [0.   0.   0.   0.   0.  ]\n",
      " [0.   0.   0.   0.   0.  ]]\n"
     ]
    }
   ],
   "source": [
    "pr = probs = np.array([   #row = value  column = color\n",
    "            [0.75 , 0.1 , 0,  0.4, 0.1],\n",
    "            [0.75 , 0.1 , 0,  0.4, 0.1],\n",
    "            [0.75,  0.1 , 0,  0.4, 0.1],\n",
    "            [0.75,  0.1,  0,  0.4, 0.1],\n",
    "            [0.75,  0.1,  0,  0.4, 0.1]\n",
    "        ], dtype=\"float\")\n",
    "\n",
    "hint = {\n",
    "    'type' : \"value\",\n",
    "    'value' : 2,\n",
    "    'positions' : [1,2,3]\n",
    "}\n",
    "\n",
    "mypos = 2\n",
    "\n",
    "deckAvailableSelf = np.array([[3,3,3,3,3],[2,2,2,2,2],[2,2,2,2,2],[2,2,2,2,2],[1,1,1,1,1]], dtype=\"uint\")\n",
    "\n",
    "calcHint(pr, hint, mypos, deckAvailableSelf)"
   ]
  }
 ],
 "metadata": {
  "interpreter": {
   "hash": "85f5208c83904c029bf8656f69ab1e1b5a105b9a55f705b8ebbe1c41c2bb4f29"
  },
  "kernelspec": {
   "display_name": "Python 3.9.7 64-bit",
   "language": "python",
   "name": "python3"
  },
  "language_info": {
   "codemirror_mode": {
    "name": "ipython",
    "version": 3
   },
   "file_extension": ".py",
   "mimetype": "text/x-python",
   "name": "python",
   "nbconvert_exporter": "python",
   "pygments_lexer": "ipython3",
   "version": "3.9.7"
  },
  "orig_nbformat": 4
 },
 "nbformat": 4,
 "nbformat_minor": 2
}

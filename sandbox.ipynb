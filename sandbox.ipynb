{
 "cells": [
  {
   "cell_type": "code",
   "execution_count": 10,
   "metadata": {},
   "outputs": [],
   "source": [
    "import numpy as np"
   ]
  },
  {
   "cell_type": "code",
   "execution_count": 8,
   "metadata": {},
   "outputs": [
    {
     "ename": "NameError",
     "evalue": "name 'np' is not defined",
     "output_type": "error",
     "traceback": [
      "\u001b[1;31m---------------------------------------------------------------------------\u001b[0m",
      "\u001b[1;31mNameError\u001b[0m                                 Traceback (most recent call last)",
      "\u001b[1;32m~\\AppData\\Local\\Temp/ipykernel_22732/1196015791.py\u001b[0m in \u001b[0;36m<module>\u001b[1;34m\u001b[0m\n\u001b[0;32m     19\u001b[0m \u001b[1;33m\u001b[0m\u001b[0m\n\u001b[0;32m     20\u001b[0m \u001b[0mcolors\u001b[0m \u001b[1;33m=\u001b[0m \u001b[1;33m[\u001b[0m\u001b[1;34m\"red\"\u001b[0m\u001b[1;33m,\u001b[0m\u001b[1;34m\"white\"\u001b[0m\u001b[1;33m,\u001b[0m\u001b[1;34m\"blue\"\u001b[0m\u001b[1;33m,\u001b[0m\u001b[1;34m\"yellow\"\u001b[0m\u001b[1;33m,\u001b[0m\u001b[1;34m\"green\"\u001b[0m\u001b[1;33m]\u001b[0m\u001b[1;33m\u001b[0m\u001b[1;33m\u001b[0m\u001b[0m\n\u001b[1;32m---> 21\u001b[1;33m \u001b[1;32mclass\u001b[0m \u001b[0mPlayer\u001b[0m\u001b[1;33m(\u001b[0m\u001b[0mobject\u001b[0m\u001b[1;33m)\u001b[0m\u001b[1;33m:\u001b[0m\u001b[1;33m\u001b[0m\u001b[1;33m\u001b[0m\u001b[0m\n\u001b[0m\u001b[0;32m     22\u001b[0m \u001b[1;33m\u001b[0m\u001b[0m\n\u001b[0;32m     23\u001b[0m     \u001b[1;32mglobal\u001b[0m \u001b[0mcolors\u001b[0m\u001b[1;33m\u001b[0m\u001b[1;33m\u001b[0m\u001b[0m\n",
      "\u001b[1;32m~\\AppData\\Local\\Temp/ipykernel_22732/1196015791.py\u001b[0m in \u001b[0;36mPlayer\u001b[1;34m()\u001b[0m\n\u001b[0;32m     23\u001b[0m     \u001b[1;32mglobal\u001b[0m \u001b[0mcolors\u001b[0m\u001b[1;33m\u001b[0m\u001b[1;33m\u001b[0m\u001b[0m\n\u001b[0;32m     24\u001b[0m     \u001b[0mtoServe\u001b[0m \u001b[1;33m=\u001b[0m \u001b[1;33m[\u001b[0m\u001b[1;33m]\u001b[0m\u001b[1;33m\u001b[0m\u001b[1;33m\u001b[0m\u001b[0m\n\u001b[1;32m---> 25\u001b[1;33m     \u001b[0mdeckAvailableSelf\u001b[0m \u001b[1;33m=\u001b[0m \u001b[0mnp\u001b[0m\u001b[1;33m.\u001b[0m\u001b[0marray\u001b[0m\u001b[1;33m(\u001b[0m\u001b[1;33m[\u001b[0m\u001b[1;33m[\u001b[0m\u001b[1;36m3\u001b[0m\u001b[1;33m,\u001b[0m\u001b[1;36m3\u001b[0m\u001b[1;33m,\u001b[0m\u001b[1;36m3\u001b[0m\u001b[1;33m,\u001b[0m\u001b[1;36m3\u001b[0m\u001b[1;33m,\u001b[0m\u001b[1;36m3\u001b[0m\u001b[1;33m]\u001b[0m\u001b[1;33m,\u001b[0m\u001b[1;33m[\u001b[0m\u001b[1;36m2\u001b[0m\u001b[1;33m,\u001b[0m\u001b[1;36m2\u001b[0m\u001b[1;33m,\u001b[0m\u001b[1;36m2\u001b[0m\u001b[1;33m,\u001b[0m\u001b[1;36m2\u001b[0m\u001b[1;33m,\u001b[0m\u001b[1;36m2\u001b[0m\u001b[1;33m]\u001b[0m\u001b[1;33m,\u001b[0m\u001b[1;33m[\u001b[0m\u001b[1;36m2\u001b[0m\u001b[1;33m,\u001b[0m\u001b[1;36m2\u001b[0m\u001b[1;33m,\u001b[0m\u001b[1;36m2\u001b[0m\u001b[1;33m,\u001b[0m\u001b[1;36m2\u001b[0m\u001b[1;33m,\u001b[0m\u001b[1;36m2\u001b[0m\u001b[1;33m]\u001b[0m\u001b[1;33m,\u001b[0m\u001b[1;33m[\u001b[0m\u001b[1;36m2\u001b[0m\u001b[1;33m,\u001b[0m\u001b[1;36m2\u001b[0m\u001b[1;33m,\u001b[0m\u001b[1;36m2\u001b[0m\u001b[1;33m,\u001b[0m\u001b[1;36m2\u001b[0m\u001b[1;33m,\u001b[0m\u001b[1;36m2\u001b[0m\u001b[1;33m]\u001b[0m\u001b[1;33m,\u001b[0m\u001b[1;33m[\u001b[0m\u001b[1;36m1\u001b[0m\u001b[1;33m,\u001b[0m\u001b[1;36m1\u001b[0m\u001b[1;33m,\u001b[0m\u001b[1;36m1\u001b[0m\u001b[1;33m,\u001b[0m\u001b[1;36m1\u001b[0m\u001b[1;33m,\u001b[0m\u001b[1;36m1\u001b[0m\u001b[1;33m]\u001b[0m\u001b[1;33m]\u001b[0m\u001b[1;33m,\u001b[0m \u001b[0mdtype\u001b[0m\u001b[1;33m=\u001b[0m\u001b[1;34m\"uint\"\u001b[0m\u001b[1;33m)\u001b[0m\u001b[1;33m\u001b[0m\u001b[1;33m\u001b[0m\u001b[0m\n\u001b[0m\u001b[0;32m     26\u001b[0m                              \u001b[1;31m#aggiorna saved decks\u001b[0m\u001b[1;33m\u001b[0m\u001b[1;33m\u001b[0m\u001b[0m\n\u001b[0;32m     27\u001b[0m     \u001b[1;32mdef\u001b[0m \u001b[0mupdate\u001b[0m\u001b[1;33m(\u001b[0m\u001b[0mself\u001b[0m\u001b[1;33m,\u001b[0m \u001b[0mdata\u001b[0m\u001b[1;33m)\u001b[0m\u001b[1;33m:\u001b[0m  \u001b[1;31m#entra qui se ricevo hint o se qualcuno/io gioco/scarto\u001b[0m\u001b[1;33m\u001b[0m\u001b[1;33m\u001b[0m\u001b[0m\n",
      "\u001b[1;31mNameError\u001b[0m: name 'np' is not defined"
     ]
    }
   ],
   "source": [
    "class Card(object):\n",
    "\n",
    "    global colors\n",
    "    def calcProb(self, deck, card):\n",
    "\n",
    "            #currentplayer\n",
    "            #players = {name, hand=[carte in mano card={value,color}]}\n",
    "            #tablecards[color] = [card list of played cards]\n",
    "            #discardPile = [card list of discarded cards] \n",
    "            #usedNoteToken = numero di hint dati 0-8\n",
    "            #usedStormTokens = numero di errori 0-2 (a 3 la partita finisce)\n",
    "            tot = 0\n",
    "            m = self.mask(self.probs, deck)\n",
    "            tot = np.sum(m)\n",
    "            self.probs[:,:] = m[:,:]/tot\n",
    "            print(\"I've been kidnapped\\n\")\n",
    "            print(\"Me too!\\n\")\n",
    "            print(\"Lmao\\n\")\n",
    "\n",
    "colors = [\"red\",\"white\",\"blue\",\"yellow\",\"green\"]\n",
    "class Player(object):\n",
    "\n",
    "    global colors\n",
    "    toServe = []\n",
    "    deckAvailableSelf = np.array([[3,3,3,3,3],[2,2,2,2,2],[2,2,2,2,2],[2,2,2,2,2],[1,1,1,1,1]], dtype=\"uint\")\n",
    "                             #aggiorna saved decks\n",
    "    def update(self, data):  #entra qui se ricevo hint o se qualcuno/io gioco/scarto\n",
    "            if(data['type'] == \"ServerGameStateData\"):                         \n",
    "                ##show has been called, update is needed\n",
    "                #TODO: modifica deck values using data\n",
    "                #change single hand cards probabilities\n",
    "                #currentplayer\n",
    "                #players = {name, hand=[carte in mano card={value,color}]} \n",
    "    \n",
    "                #tablecards[color] = [card list of played cards]\n",
    "                #discardPile = [card list of discarded cards] \n",
    "                #usedNoteToken = numero di hint dati 0-8\n",
    "                #usedStormTokens = numero di errori 0-2 (a 3 la partita finisce)\n",
    "                for player in self.toServe:\n",
    "                    card = data['players'][player][-1]\n",
    "                    self.deckAvailableSelf[card.value - 1, colors.index(card.color)]\n",
    "                    self.toServe.pop(player)\n",
    "                for i in range(len(self.hand)):\n",
    "                    self.hand[i].calcProb(self.deckAvailableSelf)\n",
    "            elif(data['type'] == \"ServerActionValid\" or\n",
    "                data['type'] == \"ServerPlayerThunderStrike\" or\n",
    "                data['type'] == \"ServerPlayerMoveOk\"):\n",
    "                #action -> string di contenuto \"discard\"\n",
    "                #card -> {color, value}\n",
    "                #lastplayer -> string giocatore che ha giocato\n",
    "                #player -> giocatore che deve giocare\n",
    "                self.deckAvailableSelf[data['card']['value'] - 1, colors.index(data['card']['color'])]\n",
    "                self.toServe.append(data['lastPlayer'])\n",
    "    \n",
    "    \n",
    "    #calcolo probabilità cambiamento del deck (play/discard)\n",
    "    "
   ]
  },
  {
   "cell_type": "code",
   "execution_count": null,
   "metadata": {},
   "outputs": [],
   "source": [
    "data = {\n",
    "    \"type\":\"ServerActionValid\",\n",
    "    \"card\": {\"color\":\"red\", \"value\":2},\n",
    "    \"lastPlayer\": \"ciccio\",    \n",
    "}\n",
    "\n",
    "data2 = {\n",
    "    \"type\":\"ServerGameStateData\",\n",
    "\n",
    "    \"players\": [{\"name\" : \"ciccio\", \"hand\":[]}, {...}]\n",
    "}\n",
    "\n",
    "me = Player()\n",
    "\n",
    "me.update(data)\n",
    "\n",
    "me.update(data2)"
   ]
  },
  {
   "cell_type": "code",
   "execution_count": null,
   "metadata": {},
   "outputs": [
    {
     "data": {
      "text/plain": [
       "0"
      ]
     },
     "execution_count": 6,
     "metadata": {},
     "output_type": "execute_result"
    }
   ],
   "source": [
    "move = {\n",
    "            \"card\":0,\n",
    "            \"type\":\"\"\n",
    "        }\n",
    "\n",
    "move[\"card\"]=0\n",
    "move[\"card\"]"
   ]
  },
  {
   "cell_type": "code",
   "execution_count": 22,
   "metadata": {},
   "outputs": [],
   "source": [
    "def mask(probs, deck):\n",
    "\n",
    "\n",
    "    res2 = np.ma.make_mask(probs)\n",
    "\n",
    "    res3 = np.ma.masked_array(deck, np.invert(res2), fill_value=0)\n",
    "\n",
    "    return res3.filled()\n"
   ]
  },
  {
   "cell_type": "code",
   "execution_count": 23,
   "metadata": {},
   "outputs": [
    {
     "data": {
      "text/plain": [
       "0"
      ]
     },
     "execution_count": 23,
     "metadata": {},
     "output_type": "execute_result"
    }
   ],
   "source": [
    "states = np.array([   #row = value  column = color\n",
    "        [1,0,2,0,2],\n",
    "        [1,2,2,2,2],\n",
    "        [2,2,0,0,0],\n",
    "        [2,0,2,2,0],\n",
    "        [2,0,0,0,0]\n",
    "    ], dtype=\"uint\")\n",
    "\n",
    "probs = np.array([   #row = value  column = color\n",
    "            [1,1,0,0,0],\n",
    "            [1,0,0,1,0],\n",
    "            [1,0,0,1,1],\n",
    "            [1,0,1,0,0],\n",
    "            [1,0,0,0,1]\n",
    "        ], dtype=\"float\")\n",
    "\n",
    "m = mask(probs, states)\n",
    "m.min()\n"
   ]
  }
 ],
 "metadata": {
  "interpreter": {
   "hash": "85f5208c83904c029bf8656f69ab1e1b5a105b9a55f705b8ebbe1c41c2bb4f29"
  },
  "kernelspec": {
   "display_name": "Python 3.9.7 64-bit",
   "language": "python",
   "name": "python3"
  },
  "language_info": {
   "codemirror_mode": {
    "name": "ipython",
    "version": 3
   },
   "file_extension": ".py",
   "mimetype": "text/x-python",
   "name": "python",
   "nbconvert_exporter": "python",
   "pygments_lexer": "ipython3",
   "version": "3.9.7"
  },
  "orig_nbformat": 4
 },
 "nbformat": 4,
 "nbformat_minor": 2
}
